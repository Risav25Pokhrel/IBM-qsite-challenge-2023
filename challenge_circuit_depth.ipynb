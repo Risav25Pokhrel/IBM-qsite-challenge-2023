{
 "cells": [
  {
   "cell_type": "markdown",
   "id": "fd0d33b0-9cb7-4f8e-a038-3d2aef5914ed",
   "metadata": {},
   "source": [
    "# Challenge: Constructing Circuits in Qiskit\n",
    "\n",
    "In this challenge, we'll construct some basic circuits in Qiskit and run them in the Qiskit Aer simulator. First, you'll examine a circuit that produces an entangled quantum state known as a Bell state. From there, you'll construct larger circuits for producing entanglement among many qubits into GHZ states.\n",
    "\n",
    "Of course, you can run these circuits on real quantum computers on the IBM Quantum Platform under the open access plan. See this documentation for more information on how to run on the IBM Quantum Platform: https://qiskit.org/ecosystem/ibm-provider/tutorials/1_the_ibm_quantum_account.html\n",
    "\n",
    "\n",
    "Some material in the notebook was sourced from the Qiskit Global Summer School.\n",
    "\n",
    "**IMPORTANT**: Several of the challenge questions ask for answers to questions or explanations of your answers. To get full credit for you answers, create markdown cells and fill in your answer in words. Clearly indicate where you have provided an answer so that the judges can clearly see it."
   ]
  },
  {
   "cell_type": "code",
   "execution_count": 3,
   "id": "86293a8c-4583-4c7b-bc52-8546e3520c22",
   "metadata": {
    "tags": []
   },
   "outputs": [],
   "source": [
    "# Importing standard Qiskit libraries\n",
    "from qiskit import QuantumCircuit, transpile\n",
    "from qiskit.tools.jupyter import *\n",
    "from qiskit.visualization import *\n",
    "from qiskit.quantum_info import *\n",
    "\n",
    "import numpy as np"
   ]
  },
  {
   "cell_type": "markdown",
   "id": "012b19c4-a9a4-4acf-8f23-70f1d3e2283a",
   "metadata": {},
   "source": [
    "## Quantum Circuits and Entanglement"
   ]
  },
  {
   "cell_type": "markdown",
   "id": "838f293f-8cf2-431f-b559-65f6a66d145c",
   "metadata": {},
   "source": [
    "Let's start out with some basic gates in Qiskit. First, let's examine the X gate (also called the NOT gate) on a single qubit. The X gate transforms the state of a qubit as follows:\n",
    "\n",
    "1) $X |0\\rangle = |1\\rangle$\n",
    "1) $X |1\\rangle = |0\\rangle$\n",
    "\n",
    "Put more simply, it flips the qubit between $|0\\rangle$ and $|1\\rangle$.\n",
    "\n",
    "In Qiskit, all qubits are initialized in the $|0\\rangle$ state. Hence, the circuit below will simply flip the qubit to be in state $|1\\rangle$.\n",
    "\n",
    "Note: the first parameter to the `QuantumCircuit` class is the number of qubits we want in our circuit."
   ]
  },
  {
   "cell_type": "code",
   "execution_count": 4,
   "id": "f5824e63-a2eb-45b4-812c-39ea1ab3995e",
   "metadata": {
    "tags": []
   },
   "outputs": [
    {
     "data": {
      "text/html": [
       "<pre style=\"word-wrap: normal;white-space: pre;background: #fff0;line-height: 1.1;font-family: &quot;Courier New&quot;,Courier,monospace\">   ┌───┐\n",
       "q: ┤ X ├\n",
       "   └───┘</pre>"
      ],
      "text/plain": [
       "   ┌───┐\n",
       "q: ┤ X ├\n",
       "   └───┘"
      ]
     },
     "execution_count": 4,
     "metadata": {},
     "output_type": "execute_result"
    }
   ],
   "source": [
    "qc = QuantumCircuit(1)    # Create a circuit with 1 qubit\n",
    "qc.x(0)\n",
    "qc.draw()"
   ]
  },
  {
   "cell_type": "markdown",
   "id": "681d243c-aa05-40c1-8d0e-0bb08a3c287b",
   "metadata": {},
   "source": [
    "### Entagling 2 qubits: The Bell state\n",
    "\n",
    "A Bell state is an entanglement of two qubits. It can be constructed using the circuit below. In this example, we first use the Hadamard gate (H gate) to place qubit 0 into a uniform superposition of $|0\\rangle$ and $|1\\rangle$. Then, we use a Controlled NOT (CNOT) gate where qubit 0 is the controlling qubit and qubit 1 is the target qubit. The CNOT gate will flip the target qubit if the control qubit is in state $|1\\rangle$, but will do nothing if the control qubit is $|0\\rangle$. \n",
    "\n",
    "The circuit below will produce the following entangled state:\n",
    "\n",
    "$\\frac{1}{\\sqrt{2}}(|00\\rangle + |11\\rangle)$\n",
    "\n",
    "We'll run this in the simulator, so we'll need to measure the qubits to see the outcomes. The second parameter in `QuantumCircuit` specifies the number of classical bits that we'll use to store the measurements of the qubits."
   ]
  },
  {
   "cell_type": "code",
   "execution_count": 5,
   "id": "12180394-689f-46c5-a449-b94ddac27b6a",
   "metadata": {
    "tags": []
   },
   "outputs": [
    {
     "data": {
      "image/png": "[encoded data removed]",
      "text/plain": [
       "<Figure size 454.517x284.278 with 1 Axes>"
      ]
     },
     "execution_count": 5,
     "metadata": {},
     "output_type": "execute_result"
    }
   ],
   "source": [
    "bell = QuantumCircuit(2, 2)     # Create a circuit with 2 qubits and 2 classical bits\n",
    "\n",
    "bell.h(0) # apply an H gate to the circuit\n",
    "bell.cx(0,1) # apply a CNOT gate to the circuit\n",
    "bell.measure([0,1], [0,1])  # measure qubits 0 and 1, and store the results in classical bits 0 and 1\n",
    "\n",
    "bell.draw(output=\"mpl\")"
   ]
  },
  {
   "cell_type": "markdown",
   "id": "acea04c4-0383-4769-a028-b6794c6e4613",
   "metadata": {},
   "source": [
    "We can run this circuit in the simulator to see the outcome."
   ]
  },
  {
   "cell_type": "code",
   "execution_count": 6,
   "id": "b677c054-e804-4ae8-8e28-22fb7b488ffe",
   "metadata": {
    "tags": []
   },
   "outputs": [
    {
     "data": {
      "image/png": "[encoded data removed]",
      "text/plain": [
       "<Figure size 700x500 with 1 Axes>"
      ]
     },
     "execution_count": 6,
     "metadata": {},
     "output_type": "execute_result"
    }
   ],
   "source": [
    "from qiskit_aer import AerSimulator\n",
    "\n",
    "simulator = AerSimulator()\n",
    "job = simulator.run(bell)\n",
    "result = job.result()\n",
    "counts = result.get_counts()\n",
    "plot_histogram(counts)"
   ]
  },
  {
   "cell_type": "markdown",
   "id": "e5d29381-4832-4115-8343-03c605079933",
   "metadata": {},
   "source": [
    "You should see that the get $|00\\rangle$ about 50% of the time, and $|11\\rangle$ about 50% of the time."
   ]
  },
  {
   "cell_type": "markdown",
   "id": "aaef9e1e-c6d0-426a-86d7-fa2437fd2ca7",
   "metadata": {},
   "source": [
    "**PART 1:** Can you explain why the circuit above gives the state $\\frac{1}{\\sqrt{2}}(|00\\rangle + |11\\rangle)$?"
   ]
  },
  {
   "cell_type": "markdown",
   "id": "7a1ff75f-c103-4301-8507-2c4a10f5eee2",
   "metadata": {},
   "source": [
    "> INSERT ANSWER HERE"
   ]
  },
  {
   "cell_type": "markdown",
   "id": "d4b2c0b1-0e8f-408d-a988-7ad81d839435",
   "metadata": {},
   "source": [
    "**PART 2**: Construct a circuit that gives the following Bell state\n",
    "\n",
    "$\\frac{1}{\\sqrt{2}}(|01\\rangle + |10\\rangle)$\n",
    "\n",
    "Run in the simulator to verify the outcome."
   ]
  },
  {
   "cell_type": "code",
   "execution_count": 7,
   "id": "f3925b46-d0cc-4c21-be06-74eb3640d6f0",
   "metadata": {
    "tags": []
   },
   "outputs": [
    {
     "data": {
      "text/latex": [
       "$$\\frac{\\sqrt{2}}{2} |01\\rangle+\\frac{\\sqrt{2}}{2} |10\\rangle$$"
      ],
      "text/plain": [
       "<IPython.core.display.Latex object>"
      ]
     },
     "metadata": {},
     "output_type": "display_data"
    },
    {
     "data": {
      "image/png": "[encoded data removed]",
      "text/plain": [
       "<Figure size 454.517x284.278 with 1 Axes>"
      ]
     },
     "execution_count": 7,
     "metadata": {},
     "output_type": "execute_result"
    }
   ],
   "source": [
    "# FILL IN CODE HERE\n",
    "\n",
    "qc=QuantumCircuit(2,2)\n",
    "\n",
    "qc.h(0)\n",
    "qc.x(1)\n",
    "\n",
    "qc.cx(0,1)\n",
    "\n",
    "display(Statevector(qc).draw('latex'))\n",
    "\n",
    "qc.measure([0,1], [0,1])  # measure qubits 0 and 1, and store the results in classical bits 0 and 1\n",
    "\n",
    "qc.draw(output=\"mpl\")"
   ]
  },
  {
   "cell_type": "code",
   "execution_count": 8,
   "id": "7d04bc90",
   "metadata": {},
   "outputs": [
    {
     "data": {
      "image/png": "[encoded data removed]",
      "text/plain": [
       "<Figure size 700x500 with 1 Axes>"
      ]
     },
     "execution_count": 8,
     "metadata": {},
     "output_type": "execute_result"
    }
   ],
   "source": [
    "from qiskit_aer import AerSimulator\n",
    "\n",
    "simulator = AerSimulator()\n",
    "job = simulator.run(qc)\n",
    "result = job.result()\n",
    "counts = result.get_counts()\n",
    "plot_histogram(counts)"
   ]
  },
  {
   "cell_type": "markdown",
   "id": "1d031f2b-a7dd-404d-ba57-e292a3a05cdc",
   "metadata": {},
   "source": [
    "## Circuit Complexity\n",
    "\n",
    "### 1: Complexity of the Number of Gates\n",
    "\n",
    "We have seen different complexity classes and the big 𝑂 notation and how it can be used with Quantum Algorithms, when using gates. One possible way to calculate the complexity of an algorithm is to just count the number of gates used.\n",
    "\n",
    "Another often seen measure is to count the number of multi qubit gates rather than all gates, since they are normally \"more expensive\" than other gates. In our case \"more expensive\" means that they often have a way higher error rate (around 10 times higher) compared to single qubit gates.\n",
    "\n",
    "So, lets look at a circuit that produces the GHZ state, and extension of the Bell state to more than two qubits. Count the number of gates as well as the number of multi qubit gates:"
   ]
  },
  {
   "cell_type": "code",
   "execution_count": 9,
   "id": "158e0b1a-0ec2-4c4c-bc23-7dca2d9cf59a",
   "metadata": {
    "tags": []
   },
   "outputs": [
    {
     "name": "stdout",
     "output_type": "stream",
     "text": [
      "Size: 6\n",
      "Number of gates: 2\n"
     ]
    },
    {
     "data": {
      "text/html": [
       "<pre style=\"word-wrap: normal;white-space: pre;background: #fff0;line-height: 1.1;font-family: &quot;Courier New&quot;,Courier,monospace\">     ┌───┐             ┌─┐   \n",
       "q_0: ┤ H ├──■────■─────┤M├───\n",
       "     └───┘┌─┴─┐  │  ┌─┐└╥┘   \n",
       "q_1: ─────┤ X ├──┼──┤M├─╫────\n",
       "          └───┘┌─┴─┐└╥┘ ║ ┌─┐\n",
       "q_2: ──────────┤ X ├─╫──╫─┤M├\n",
       "               └───┘ ║  ║ └╥┘\n",
       "c: 3/════════════════╩══╩══╩═\n",
       "                     1  0  2 </pre>"
      ],
      "text/plain": [
       "     ┌───┐             ┌─┐   \n",
       "q_0: ┤ H ├──■────■─────┤M├───\n",
       "     └───┘┌─┴─┐  │  ┌─┐└╥┘   \n",
       "q_1: ─────┤ X ├──┼──┤M├─╫────\n",
       "          └───┘┌─┴─┐└╥┘ ║ ┌─┐\n",
       "q_2: ──────────┤ X ├─╫──╫─┤M├\n",
       "               └───┘ ║  ║ └╥┘\n",
       "c: 3/════════════════╩══╩══╩═\n",
       "                     1  0  2 "
      ]
     },
     "execution_count": 9,
     "metadata": {},
     "output_type": "execute_result"
    }
   ],
   "source": [
    "ghz_qc = QuantumCircuit(3, 3)\n",
    "\n",
    "ghz_qc.h(0)\n",
    "ghz_qc.cx(0,1)\n",
    "ghz_qc.cx(0,2)\n",
    "ghz_qc.measure(range(3), range(3))\n",
    "\n",
    "print(\"Size:\", ghz_qc.size())\n",
    "print(\"Number of gates:\", ghz_qc.num_nonlocal_gates())\n",
    "ghz_qc.draw()"
   ]
  },
  {
   "cell_type": "markdown",
   "id": "7ba1d5ab-a8b8-47fc-a667-a87d439df5da",
   "metadata": {},
   "source": [
    "Now run this in the simulator. You should get an outcome corresponding to the GHZ state\n",
    "\n",
    "$\\frac{1}{\\sqrt{2}}(|000\\rangle + |111\\rangle)$"
   ]
  },
  {
   "cell_type": "code",
   "execution_count": 10,
   "id": "68d50933-8bf0-4302-a2ad-c93b8ce995fd",
   "metadata": {
    "tags": []
   },
   "outputs": [
    {
     "data": {
      "image/png": "[encoded data removed]",
      "text/plain": [
       "<Figure size 700x500 with 1 Axes>"
      ]
     },
     "execution_count": 10,
     "metadata": {},
     "output_type": "execute_result"
    }
   ],
   "source": [
    "simulator = AerSimulator()\n",
    "job = simulator.run(ghz_qc)\n",
    "result = job.result()\n",
    "counts = result.get_counts()\n",
    "plot_histogram(counts)"
   ]
  },
  {
   "cell_type": "markdown",
   "id": "4bc25607-932b-4556-a106-4c544e58f025",
   "metadata": {
    "tags": []
   },
   "source": [
    "**PART 3**: Create a function that can generate the GHZ state to an arbitrary number of qubits. How does the depth of the circuit scale with the number of qubits?"
   ]
  },
  {
   "cell_type": "code",
   "execution_count": 11,
   "id": "b7094701-c044-4135-a6bf-45e18013631f",
   "metadata": {
    "tags": []
   },
   "outputs": [],
   "source": [
    "# FILL IN CODE HERE\n",
    "def create_ghz_state(num_qubits):\n",
    "\n",
    "    circuit = QuantumCircuit(num_qubits)\n",
    "\n",
    "    # Apply a Hadamard gate to the first qubit\n",
    "    circuit.h(0)\n",
    "\n",
    "    # Apply Controlled-X (CNOT) gates\n",
    "    for i in range(num_qubits - 1):\n",
    "        circuit.cx(i, i + 1)\n",
    "\n",
    "    return circuit"
   ]
  },
  {
   "cell_type": "markdown",
   "id": "9b22fe4a-fa6b-40b1-9365-12077aa252a4",
   "metadata": {},
   "source": [
    "> INSERT EXPLANATION OF CIRCUIT SCALING HERE"
   ]
  },
  {
   "cell_type": "markdown",
   "id": "feda9a84-2567-43cf-9262-161aaf298b28",
   "metadata": {},
   "source": [
    "### 2: Complexity of the Depth of a Circuit¶\n",
    "\n",
    "When it comes to how well a circuit runs on an actual Quantum Computer the number of gates is not the only important factor.\n",
    "\n",
    "The depth of the circuit tells how many \"layers\" of quantum gates, executed in parallel, it takes to complete the computation defined by the circuit.\n",
    "\n",
    "Now we look at two simple examples to show what the depth of a circuit is:"
   ]
  },
  {
   "cell_type": "code",
   "execution_count": 12,
   "id": "4cc860b3-66e8-4c91-ba14-350732b56dc4",
   "metadata": {
    "tags": []
   },
   "outputs": [
    {
     "name": "stdout",
     "output_type": "stream",
     "text": [
      "6\n"
     ]
    },
    {
     "data": {
      "text/latex": [
       "$$\\frac{\\sqrt{2}}{2} |0000\\rangle- \\frac{\\sqrt{2} i}{2} |1011\\rangle$$"
      ],
      "text/plain": [
       "<IPython.core.display.Latex object>"
      ]
     },
     "metadata": {},
     "output_type": "display_data"
    },
    {
     "data": {
      "text/html": [
       "<pre style=\"word-wrap: normal;white-space: pre;background: #fff0;line-height: 1.1;font-family: &quot;Courier New&quot;,Courier,monospace\">     ┌───┐┌───┐┌───┐┌───┐          \n",
       "q_0: ┤ H ├┤ S ├┤ S ├┤ S ├──■───────\n",
       "     └───┘└───┘└───┘└───┘┌─┴─┐     \n",
       "q_1: ────────────────────┤ X ├──■──\n",
       "                         └───┘  │  \n",
       "q_2: ───────────────────────────┼──\n",
       "                              ┌─┴─┐\n",
       "q_3: ─────────────────────────┤ X ├\n",
       "                              └───┘</pre>"
      ],
      "text/plain": [
       "     ┌───┐┌───┐┌───┐┌───┐          \n",
       "q_0: ┤ H ├┤ S ├┤ S ├┤ S ├──■───────\n",
       "     └───┘└───┘└───┘└───┘┌─┴─┐     \n",
       "q_1: ────────────────────┤ X ├──■──\n",
       "                         └───┘  │  \n",
       "q_2: ───────────────────────────┼──\n",
       "                              ┌─┴─┐\n",
       "q_3: ─────────────────────────┤ X ├\n",
       "                              └───┘"
      ]
     },
     "execution_count": 12,
     "metadata": {},
     "output_type": "execute_result"
    }
   ],
   "source": [
    "qc = QuantumCircuit(4)\n",
    "\n",
    "qc.h(0)\n",
    "qc.s(0)\n",
    "qc.s(0)\n",
    "qc.s(0)\n",
    "qc.cx(0,1)\n",
    "qc.cx(1,3)\n",
    "\n",
    "print(qc.depth())\n",
    "display(Statevector(qc).draw('latex'))\n",
    "qc.draw()"
   ]
  },
  {
   "cell_type": "code",
   "execution_count": 13,
   "id": "677a23a0-05af-4e1d-b5dc-f19d896bd437",
   "metadata": {
    "tags": []
   },
   "outputs": [
    {
     "data": {
      "text/latex": [
       "$$\\frac{\\sqrt{2}}{2} |0000\\rangle+\\frac{\\sqrt{2}}{2} |0011\\rangle$$"
      ],
      "text/plain": [
       "<IPython.core.display.Latex object>"
      ]
     },
     "metadata": {},
     "output_type": "display_data"
    },
    {
     "name": "stdout",
     "output_type": "stream",
     "text": [
      "2\n"
     ]
    },
    {
     "data": {
      "text/html": [
       "<pre style=\"word-wrap: normal;white-space: pre;background: #fff0;line-height: 1.1;font-family: &quot;Courier New&quot;,Courier,monospace\">     ┌───┐     \n",
       "q_0: ┤ H ├──■──\n",
       "     ├───┤┌─┴─┐\n",
       "q_1: ┤ S ├┤ X ├\n",
       "     ├───┤└───┘\n",
       "q_2: ┤ S ├──■──\n",
       "     ├───┤┌─┴─┐\n",
       "q_3: ┤ S ├┤ X ├\n",
       "     └───┘└───┘</pre>"
      ],
      "text/plain": [
       "     ┌───┐     \n",
       "q_0: ┤ H ├──■──\n",
       "     ├───┤┌─┴─┐\n",
       "q_1: ┤ S ├┤ X ├\n",
       "     ├───┤└───┘\n",
       "q_2: ┤ S ├──■──\n",
       "     ├───┤┌─┴─┐\n",
       "q_3: ┤ S ├┤ X ├\n",
       "     └───┘└───┘"
      ]
     },
     "execution_count": 13,
     "metadata": {},
     "output_type": "execute_result"
    }
   ],
   "source": [
    "qc2 = QuantumCircuit(4)\n",
    "\n",
    "qc2.h(0)\n",
    "qc2.s(1)\n",
    "\n",
    "\n",
    "qc2.cx(0,1)\n",
    "\n",
    "qc2.s(2)\n",
    "qc2.s(3)\n",
    "\n",
    "qc2.cx(2,3)\n",
    "\n",
    "display(Statevector(qc2).draw('latex'))\n",
    "print(qc2.depth())\n",
    "\n",
    "qc2.draw()\n"
   ]
  },
  {
   "cell_type": "markdown",
   "id": "7ff9d0a1-ab7a-44f4-bce5-33c4d81634ea",
   "metadata": {
    "tags": []
   },
   "source": [
    "The length of the circuit above corresponds with the width. And as you can see, both circuits have the same number of gates, but the first circuit has a much higher depth, because all the gates depend on the gates before, so nothing can be done in parallel.\n",
    "\n",
    "In short, the more of the gates can be applied in parallel, because they apply to different qubits, the lower will the depth of a circuit be. The lower bound on the depth of a circuit (if it has only single qubit gates and they are evenly distributed) is the number of gates divided by the number of qubits.\n",
    "\n",
    "On the other hand, if every gate in a quantum circuit depends on the same qubit, the depth will be the same as the number of gates.\n"
   ]
  },
  {
   "cell_type": "markdown",
   "id": "dc994ff6-6209-4f32-b629-de52086395a4",
   "metadata": {},
   "source": [
    "Now recall the GHZ circuit example. The most straightforward way to construct that circuit is to sequentially entangle pairs of qubuts. As you likely noticed, this scales poorly. Let’s try to do this better! Its quite clear that we can’t do Step 1 (entangling the first two qubits) better, but step 2 (entangling the remaining qubits) can be done a lot better. \n",
    "\n",
    "**PART 4**: Create a function that generates an GHZ circuit for an arbitrary number of qubits, but with a reduced depth. Demonstrate with by running your function on at least 16 qubits. Explain how your solution addressses the problem of reducing the depth\n",
    "\n",
    "Hint: For a 16 qubit GHZ circuit, a minimum depth circuit should only need 4 steps, instead of 31! Think about what kind of asymptotic running time would cause only 4 operations. And don't forget that the final depth will be 6 (Step 1 and 2 combined, plus the measurements at the end of the circuit)."
   ]
  },
  {
   "cell_type": "code",
   "execution_count": 15,
   "id": "a05174cc-5e8d-4cfa-80a3-aabc14a51298",
   "metadata": {
    "tags": []
   },
   "outputs": [
    {
     "name": "stdout",
     "output_type": "stream",
     "text": [
      "5\n"
     ]
    },
    {
     "data": {
      "text/html": [
       "<pre style=\"word-wrap: normal;white-space: pre;background: #fff0;line-height: 1.1;font-family: &quot;Courier New&quot;,Courier,monospace\">      ┌───┐                                                                    »\n",
       " q_0: ┤ H ├──■─────────────────────────────────────────────────────────────────»\n",
       "      └───┘┌─┴─┐┌─┐┌───┐                                                       »\n",
       " q_1: ─────┤ X ├┤M├┤ X ├───────────────────────────────────────────────────────»\n",
       "      ┌───┐└───┘└╥┘└─┬─┘┌───┐                                                  »\n",
       " q_2: ┤ H ├──■───╫───■──┤ X ├──────────────────────────────────────────────────»\n",
       "      └───┘┌─┴─┐ ║  ┌─┐ ├───┤                                                  »\n",
       " q_3: ─────┤ X ├─╫──┤M├─┤ X ├──────────────────────────────────────────────────»\n",
       "      ┌───┐└───┘ ║  └╥┘ └─┬─┘┌───┐                                             »\n",
       " q_4: ┤ H ├──■───╫───╫────■──┤ X ├─────────────────────────────────────────────»\n",
       "      └───┘┌─┴─┐ ║   ║   ┌─┐ ├───┤                                             »\n",
       " q_5: ─────┤ X ├─╫───╫───┤M├─┤ X ├─────────────────────────────────────────────»\n",
       "      ┌───┐└───┘ ║   ║   └╥┘ └─┬─┘┌───┐                                        »\n",
       " q_6: ┤ H ├──■───╫───╫────╫────■──┤ X ├────────────────────────────────────────»\n",
       "      └───┘┌─┴─┐ ║   ║    ║   ┌─┐ ├───┤                                        »\n",
       " q_7: ─────┤ X ├─╫───╫────╫───┤M├─┤ X ├────────────────────────────────────────»\n",
       "      ┌───┐└───┘ ║   ║    ║   └╥┘ └─┬─┘┌───┐                                   »\n",
       " q_8: ┤ H ├──■───╫───╫────╫────╫────■──┤ X ├───────────────────────────────────»\n",
       "      └───┘┌─┴─┐ ║   ║    ║    ║   ┌─┐ ├───┤                                   »\n",
       " q_9: ─────┤ X ├─╫───╫────╫────╫───┤M├─┤ X ├───────────────────────────────────»\n",
       "      ┌───┐└───┘ ║   ║    ║    ║   └╥┘ └─┬─┘┌───┐                              »\n",
       "q_10: ┤ H ├──■───╫───╫────╫────╫────╫────■──┤ X ├──────────────────────────────»\n",
       "      └───┘┌─┴─┐ ║   ║    ║    ║    ║   ┌─┐ ├───┤                              »\n",
       "q_11: ─────┤ X ├─╫───╫────╫────╫────╫───┤M├─┤ X ├──────────────────────────────»\n",
       "      ┌───┐└───┘ ║   ║    ║    ║    ║   └╥┘ └─┬─┘┌───┐                         »\n",
       "q_12: ┤ H ├──■───╫───╫────╫────╫────╫────╫────■──┤ X ├─────────────────────────»\n",
       "      └───┘┌─┴─┐ ║   ║    ║    ║    ║    ║   ┌─┐ ├───┤                         »\n",
       "q_13: ─────┤ X ├─╫───╫────╫────╫────╫────╫───┤M├─┤ X ├─────────────────────────»\n",
       "      ┌───┐└───┘ ║   ║    ║    ║    ║    ║   └╥┘ └─┬─┘┌───┐                    »\n",
       "q_14: ┤ H ├──■───╫───╫────╫────╫────╫────╫────╫────■──┤ X ├────────────────────»\n",
       "      └───┘┌─┴─┐ ║   ║    ║    ║    ║    ║    ║   ┌─┐ ├───┤                    »\n",
       "q_15: ─────┤ X ├─╫───╫────╫────╫────╫────╫────╫───┤M├─┤ X ├────────────────────»\n",
       "      ┌───┐└───┘ ║   ║    ║    ║    ║    ║    ║   └╥┘ └─┬─┘┌───┐               »\n",
       "q_16: ┤ H ├──■───╫───╫────╫────╫────╫────╫────╫────╫────■──┤ X ├───────────────»\n",
       "      └───┘┌─┴─┐ ║   ║    ║    ║    ║    ║    ║    ║   ┌─┐ ├───┤               »\n",
       "q_17: ─────┤ X ├─╫───╫────╫────╫────╫────╫────╫────╫───┤M├─┤ X ├───────────────»\n",
       "      ┌───┐└───┘ ║   ║    ║    ║    ║    ║    ║    ║   └╥┘ └─┬─┘┌───┐          »\n",
       "q_18: ┤ H ├──■───╫───╫────╫────╫────╫────╫────╫────╫────╫────■──┤ X ├──────────»\n",
       "      └───┘┌─┴─┐ ║   ║    ║    ║    ║    ║    ║    ║    ║   ┌─┐ ├───┤          »\n",
       "q_19: ─────┤ X ├─╫───╫────╫────╫────╫────╫────╫────╫────╫───┤M├─┤ X ├──────────»\n",
       "      ┌───┐└───┘ ║   ║    ║    ║    ║    ║    ║    ║    ║   └╥┘ └─┬─┘┌───┐     »\n",
       "q_20: ┤ H ├──■───╫───╫────╫────╫────╫────╫────╫────╫────╫────╫────■──┤ X ├─────»\n",
       "      └───┘┌─┴─┐ ║   ║    ║    ║    ║    ║    ║    ║    ║    ║   ┌─┐ ├───┤     »\n",
       "q_21: ─────┤ X ├─╫───╫────╫────╫────╫────╫────╫────╫────╫────╫───┤M├─┤ X ├─────»\n",
       "      ┌───┐└───┘ ║   ║    ║    ║    ║    ║    ║    ║    ║    ║   └╥┘ └─┬─┘┌───┐»\n",
       "q_22: ┤ H ├──■───╫───╫────╫────╫────╫────╫────╫────╫────╫────╫────╫────■──┤ X ├»\n",
       "      └───┘┌─┴─┐ ║   ║    ║    ║    ║    ║    ║    ║    ║    ║    ║   ┌─┐ ├───┤»\n",
       "q_23: ─────┤ X ├─╫───╫────╫────╫────╫────╫────╫────╫────╫────╫────╫───┤M├─┤ X ├»\n",
       "      ┌───┐└───┘ ║   ║    ║    ║    ║    ║    ║    ║    ║    ║    ║   └╥┘ └─┬─┘»\n",
       "q_24: ┤ H ├──■───╫───╫────╫────╫────╫────╫────╫────╫────╫────╫────╫────╫────■──»\n",
       "      └───┘┌─┴─┐ ║   ║    ║    ║    ║    ║    ║    ║    ║    ║    ║    ║   ┌─┐ »\n",
       "q_25: ─────┤ X ├─╫───╫────╫────╫────╫────╫────╫────╫────╫────╫────╫────╫───┤M├─»\n",
       "      ┌───┐└───┘ ║   ║    ║    ║    ║    ║    ║    ║    ║    ║    ║    ║   └╥┘ »\n",
       "q_26: ┤ H ├──■───╫───╫────╫────╫────╫────╫────╫────╫────╫────╫────╫────╫────╫──»\n",
       "      └───┘┌─┴─┐ ║   ║    ║    ║    ║    ║    ║    ║    ║    ║    ║    ║    ║  »\n",
       "q_27: ─────┤ X ├─╫───╫────╫────╫────╫────╫────╫────╫────╫────╫────╫────╫────╫──»\n",
       "      ┌───┐└───┘ ║   ║    ║    ║    ║    ║    ║    ║    ║    ║    ║    ║    ║  »\n",
       "q_28: ┤ H ├──■───╫───╫────╫────╫────╫────╫────╫────╫────╫────╫────╫────╫────╫──»\n",
       "      └───┘┌─┴─┐ ║   ║    ║    ║    ║    ║    ║    ║    ║    ║    ║    ║    ║  »\n",
       "q_29: ─────┤ X ├─╫───╫────╫────╫────╫────╫────╫────╫────╫────╫────╫────╫────╫──»\n",
       "      ┌───┐└───┘ ║   ║    ║    ║    ║    ║    ║    ║    ║    ║    ║    ║    ║  »\n",
       "q_30: ┤ H ├──■───╫───╫────╫────╫────╫────╫────╫────╫────╫────╫────╫────╫────╫──»\n",
       "      └───┘┌─┴─┐ ║   ║    ║    ║    ║    ║    ║    ║    ║    ║    ║    ║    ║  »\n",
       "q_31: ─────┤ X ├─╫───╫────╫────╫────╫────╫────╫────╫────╫────╫────╫────╫────╫──»\n",
       "           └───┘ ║   ║    ║    ║    ║    ║    ║    ║    ║    ║    ║    ║    ║  »\n",
       "c: 32/═══════════╩═══╩════╩════╩════╩════╩════╩════╩════╩════╩════╩════╩════╩══»\n",
       "                 1   3    5    7    9    11   13   15   17   19   21   23   25 »\n",
       "«                          \n",
       "« q_0: ────────────────────\n",
       "«                          \n",
       "« q_1: ────────────────────\n",
       "«                          \n",
       "« q_2: ────────────────────\n",
       "«                          \n",
       "« q_3: ────────────────────\n",
       "«                          \n",
       "« q_4: ────────────────────\n",
       "«                          \n",
       "« q_5: ────────────────────\n",
       "«                          \n",
       "« q_6: ────────────────────\n",
       "«                          \n",
       "« q_7: ────────────────────\n",
       "«                          \n",
       "« q_8: ────────────────────\n",
       "«                          \n",
       "« q_9: ────────────────────\n",
       "«                          \n",
       "«q_10: ────────────────────\n",
       "«                          \n",
       "«q_11: ────────────────────\n",
       "«                          \n",
       "«q_12: ────────────────────\n",
       "«                          \n",
       "«q_13: ────────────────────\n",
       "«                          \n",
       "«q_14: ────────────────────\n",
       "«                          \n",
       "«q_15: ────────────────────\n",
       "«                          \n",
       "«q_16: ────────────────────\n",
       "«                          \n",
       "«q_17: ────────────────────\n",
       "«                          \n",
       "«q_18: ────────────────────\n",
       "«                          \n",
       "«q_19: ────────────────────\n",
       "«                          \n",
       "«q_20: ────────────────────\n",
       "«                          \n",
       "«q_21: ────────────────────\n",
       "«                          \n",
       "«q_22: ────────────────────\n",
       "«                          \n",
       "«q_23: ────────────────────\n",
       "«      ┌───┐               \n",
       "«q_24: ┤ X ├───────────────\n",
       "«      ├───┤               \n",
       "«q_25: ┤ X ├───────────────\n",
       "«      └─┬─┘┌───┐          \n",
       "«q_26: ──■──┤ X ├──────────\n",
       "«       ┌─┐ ├───┤          \n",
       "«q_27: ─┤M├─┤ X ├──────────\n",
       "«       └╥┘ └─┬─┘┌───┐     \n",
       "«q_28: ──╫────■──┤ X ├─────\n",
       "«        ║   ┌─┐ ├───┤     \n",
       "«q_29: ──╫───┤M├─┤ X ├─────\n",
       "«        ║   └╥┘ └─┬─┘┌───┐\n",
       "«q_30: ──╫────╫────■──┤ X ├\n",
       "«        ║    ║   ┌─┐ └───┘\n",
       "«q_31: ──╫────╫───┤M├──────\n",
       "«        ║    ║   └╥┘      \n",
       "«c: 32/══╩════╩════╩═══════\n",
       "«        27   29   31      </pre>"
      ],
      "text/plain": [
       "      ┌───┐                                                                    »\n",
       " q_0: ┤ H ├──■─────────────────────────────────────────────────────────────────»\n",
       "      └───┘┌─┴─┐┌─┐┌───┐                                                       »\n",
       " q_1: ─────┤ X ├┤M├┤ X ├───────────────────────────────────────────────────────»\n",
       "      ┌───┐└───┘└╥┘└─┬─┘┌───┐                                                  »\n",
       " q_2: ┤ H ├──■───╫───■──┤ X ├──────────────────────────────────────────────────»\n",
       "      └───┘┌─┴─┐ ║  ┌─┐ ├───┤                                                  »\n",
       " q_3: ─────┤ X ├─╫──┤M├─┤ X ├──────────────────────────────────────────────────»\n",
       "      ┌───┐└───┘ ║  └╥┘ └─┬─┘┌───┐                                             »\n",
       " q_4: ┤ H ├──■───╫───╫────■──┤ X ├─────────────────────────────────────────────»\n",
       "      └───┘┌─┴─┐ ║   ║   ┌─┐ ├───┤                                             »\n",
       " q_5: ─────┤ X ├─╫───╫───┤M├─┤ X ├─────────────────────────────────────────────»\n",
       "      ┌───┐└───┘ ║   ║   └╥┘ └─┬─┘┌───┐                                        »\n",
       " q_6: ┤ H ├──■───╫───╫────╫────■──┤ X ├────────────────────────────────────────»\n",
       "      └───┘┌─┴─┐ ║   ║    ║   ┌─┐ ├───┤                                        »\n",
       " q_7: ─────┤ X ├─╫───╫────╫───┤M├─┤ X ├────────────────────────────────────────»\n",
       "      ┌───┐└───┘ ║   ║    ║   └╥┘ └─┬─┘┌───┐                                   »\n",
       " q_8: ┤ H ├──■───╫───╫────╫────╫────■──┤ X ├───────────────────────────────────»\n",
       "      └───┘┌─┴─┐ ║   ║    ║    ║   ┌─┐ ├───┤                                   »\n",
       " q_9: ─────┤ X ├─╫───╫────╫────╫───┤M├─┤ X ├───────────────────────────────────»\n",
       "      ┌───┐└───┘ ║   ║    ║    ║   └╥┘ └─┬─┘┌───┐                              »\n",
       "q_10: ┤ H ├──■───╫───╫────╫────╫────╫────■──┤ X ├──────────────────────────────»\n",
       "      └───┘┌─┴─┐ ║   ║    ║    ║    ║   ┌─┐ ├───┤                              »\n",
       "q_11: ─────┤ X ├─╫───╫────╫────╫────╫───┤M├─┤ X ├──────────────────────────────»\n",
       "      ┌───┐└───┘ ║   ║    ║    ║    ║   └╥┘ └─┬─┘┌───┐                         »\n",
       "q_12: ┤ H ├──■───╫───╫────╫────╫────╫────╫────■──┤ X ├─────────────────────────»\n",
       "      └───┘┌─┴─┐ ║   ║    ║    ║    ║    ║   ┌─┐ ├───┤                         »\n",
       "q_13: ─────┤ X ├─╫───╫────╫────╫────╫────╫───┤M├─┤ X ├─────────────────────────»\n",
       "      ┌───┐└───┘ ║   ║    ║    ║    ║    ║   └╥┘ └─┬─┘┌───┐                    »\n",
       "q_14: ┤ H ├──■───╫───╫────╫────╫────╫────╫────╫────■──┤ X ├────────────────────»\n",
       "      └───┘┌─┴─┐ ║   ║    ║    ║    ║    ║    ║   ┌─┐ ├───┤                    »\n",
       "q_15: ─────┤ X ├─╫───╫────╫────╫────╫────╫────╫───┤M├─┤ X ├────────────────────»\n",
       "      ┌───┐└───┘ ║   ║    ║    ║    ║    ║    ║   └╥┘ └─┬─┘┌───┐               »\n",
       "q_16: ┤ H ├──■───╫───╫────╫────╫────╫────╫────╫────╫────■──┤ X ├───────────────»\n",
       "      └───┘┌─┴─┐ ║   ║    ║    ║    ║    ║    ║    ║   ┌─┐ ├───┤               »\n",
       "q_17: ─────┤ X ├─╫───╫────╫────╫────╫────╫────╫────╫───┤M├─┤ X ├───────────────»\n",
       "      ┌───┐└───┘ ║   ║    ║    ║    ║    ║    ║    ║   └╥┘ └─┬─┘┌───┐          »\n",
       "q_18: ┤ H ├──■───╫───╫────╫────╫────╫────╫────╫────╫────╫────■──┤ X ├──────────»\n",
       "      └───┘┌─┴─┐ ║   ║    ║    ║    ║    ║    ║    ║    ║   ┌─┐ ├───┤          »\n",
       "q_19: ─────┤ X ├─╫───╫────╫────╫────╫────╫────╫────╫────╫───┤M├─┤ X ├──────────»\n",
       "      ┌───┐└───┘ ║   ║    ║    ║    ║    ║    ║    ║    ║   └╥┘ └─┬─┘┌───┐     »\n",
       "q_20: ┤ H ├──■───╫───╫────╫────╫────╫────╫────╫────╫────╫────╫────■──┤ X ├─────»\n",
       "      └───┘┌─┴─┐ ║   ║    ║    ║    ║    ║    ║    ║    ║    ║   ┌─┐ ├───┤     »\n",
       "q_21: ─────┤ X ├─╫───╫────╫────╫────╫────╫────╫────╫────╫────╫───┤M├─┤ X ├─────»\n",
       "      ┌───┐└───┘ ║   ║    ║    ║    ║    ║    ║    ║    ║    ║   └╥┘ └─┬─┘┌───┐»\n",
       "q_22: ┤ H ├──■───╫───╫────╫────╫────╫────╫────╫────╫────╫────╫────╫────■──┤ X ├»\n",
       "      └───┘┌─┴─┐ ║   ║    ║    ║    ║    ║    ║    ║    ║    ║    ║   ┌─┐ ├───┤»\n",
       "q_23: ─────┤ X ├─╫───╫────╫────╫────╫────╫────╫────╫────╫────╫────╫───┤M├─┤ X ├»\n",
       "      ┌───┐└───┘ ║   ║    ║    ║    ║    ║    ║    ║    ║    ║    ║   └╥┘ └─┬─┘»\n",
       "q_24: ┤ H ├──■───╫───╫────╫────╫────╫────╫────╫────╫────╫────╫────╫────╫────■──»\n",
       "      └───┘┌─┴─┐ ║   ║    ║    ║    ║    ║    ║    ║    ║    ║    ║    ║   ┌─┐ »\n",
       "q_25: ─────┤ X ├─╫───╫────╫────╫────╫────╫────╫────╫────╫────╫────╫────╫───┤M├─»\n",
       "      ┌───┐└───┘ ║   ║    ║    ║    ║    ║    ║    ║    ║    ║    ║    ║   └╥┘ »\n",
       "q_26: ┤ H ├──■───╫───╫────╫────╫────╫────╫────╫────╫────╫────╫────╫────╫────╫──»\n",
       "      └───┘┌─┴─┐ ║   ║    ║    ║    ║    ║    ║    ║    ║    ║    ║    ║    ║  »\n",
       "q_27: ─────┤ X ├─╫───╫────╫────╫────╫────╫────╫────╫────╫────╫────╫────╫────╫──»\n",
       "      ┌───┐└───┘ ║   ║    ║    ║    ║    ║    ║    ║    ║    ║    ║    ║    ║  »\n",
       "q_28: ┤ H ├──■───╫───╫────╫────╫────╫────╫────╫────╫────╫────╫────╫────╫────╫──»\n",
       "      └───┘┌─┴─┐ ║   ║    ║    ║    ║    ║    ║    ║    ║    ║    ║    ║    ║  »\n",
       "q_29: ─────┤ X ├─╫───╫────╫────╫────╫────╫────╫────╫────╫────╫────╫────╫────╫──»\n",
       "      ┌───┐└───┘ ║   ║    ║    ║    ║    ║    ║    ║    ║    ║    ║    ║    ║  »\n",
       "q_30: ┤ H ├──■───╫───╫────╫────╫────╫────╫────╫────╫────╫────╫────╫────╫────╫──»\n",
       "      └───┘┌─┴─┐ ║   ║    ║    ║    ║    ║    ║    ║    ║    ║    ║    ║    ║  »\n",
       "q_31: ─────┤ X ├─╫───╫────╫────╫────╫────╫────╫────╫────╫────╫────╫────╫────╫──»\n",
       "           └───┘ ║   ║    ║    ║    ║    ║    ║    ║    ║    ║    ║    ║    ║  »\n",
       "c: 32/═══════════╩═══╩════╩════╩════╩════╩════╩════╩════╩════╩════╩════╩════╩══»\n",
       "                 1   3    5    7    9    11   13   15   17   19   21   23   25 »\n",
       "«                          \n",
       "« q_0: ────────────────────\n",
       "«                          \n",
       "« q_1: ────────────────────\n",
       "«                          \n",
       "« q_2: ────────────────────\n",
       "«                          \n",
       "« q_3: ────────────────────\n",
       "«                          \n",
       "« q_4: ────────────────────\n",
       "«                          \n",
       "« q_5: ────────────────────\n",
       "«                          \n",
       "« q_6: ────────────────────\n",
       "«                          \n",
       "« q_7: ────────────────────\n",
       "«                          \n",
       "« q_8: ────────────────────\n",
       "«                          \n",
       "« q_9: ────────────────────\n",
       "«                          \n",
       "«q_10: ────────────────────\n",
       "«                          \n",
       "«q_11: ────────────────────\n",
       "«                          \n",
       "«q_12: ────────────────────\n",
       "«                          \n",
       "«q_13: ────────────────────\n",
       "«                          \n",
       "«q_14: ────────────────────\n",
       "«                          \n",
       "«q_15: ────────────────────\n",
       "«                          \n",
       "«q_16: ────────────────────\n",
       "«                          \n",
       "«q_17: ────────────────────\n",
       "«                          \n",
       "«q_18: ────────────────────\n",
       "«                          \n",
       "«q_19: ────────────────────\n",
       "«                          \n",
       "«q_20: ────────────────────\n",
       "«                          \n",
       "«q_21: ────────────────────\n",
       "«                          \n",
       "«q_22: ────────────────────\n",
       "«                          \n",
       "«q_23: ────────────────────\n",
       "«      ┌───┐               \n",
       "«q_24: ┤ X ├───────────────\n",
       "«      ├───┤               \n",
       "«q_25: ┤ X ├───────────────\n",
       "«      └─┬─┘┌───┐          \n",
       "«q_26: ──■──┤ X ├──────────\n",
       "«       ┌─┐ ├───┤          \n",
       "«q_27: ─┤M├─┤ X ├──────────\n",
       "«       └╥┘ └─┬─┘┌───┐     \n",
       "«q_28: ──╫────■──┤ X ├─────\n",
       "«        ║   ┌─┐ ├───┤     \n",
       "«q_29: ──╫───┤M├─┤ X ├─────\n",
       "«        ║   └╥┘ └─┬─┘┌───┐\n",
       "«q_30: ──╫────╫────■──┤ X ├\n",
       "«        ║    ║   ┌─┐ └───┘\n",
       "«q_31: ──╫────╫───┤M├──────\n",
       "«        ║    ║   └╥┘      \n",
       "«c: 32/══╩════╩════╩═══════\n",
       "«        27   29   31      "
      ]
     },
     "execution_count": 15,
     "metadata": {},
     "output_type": "execute_result"
    }
   ],
   "source": [
    "# FILL IN CODE HERE\n",
    "import math\n",
    "def create_new_ghz_state(num_qubits):\n",
    "    n=2*num_qubits\n",
    "    circuit = QuantumCircuit(n,n)\n",
    "    \n",
    "    for i in range(0,n,2):\n",
    "        circuit.h(i)\n",
    "        circuit.cx(i,i+1)\n",
    "        if(i>0):\n",
    "            circuit.cx(i,i-1)\n",
    "            circuit.x(i)\n",
    "        circuit.measure(i+1,i+1)\n",
    "    return circuit\n",
    "\n",
    "ghz_new_qc=create_new_ghz_state(16)\n",
    "\n",
    "\n",
    "print(ghz_new_qc.depth())\n",
    "ghz_new_qc.draw()"
   ]
  },
  {
   "cell_type": "markdown",
   "id": "7369a9dd-f730-4ea2-8421-58cc0f70a4a4",
   "metadata": {},
   "source": [
    "Now simulate your circuit to verify that you get the correct GHZ state."
   ]
  },
  {
   "cell_type": "code",
   "execution_count": 18,
   "id": "3dbe1796-aa6c-430c-ac70-c5e9568ff551",
   "metadata": {
    "tags": []
   },
   "outputs": [
    {
     "name": "stderr",
     "output_type": "stream",
     "text": [
      "\n",
      "KeyboardInterrupt\n",
      "\n"
     ]
    },
    {
     "data": {
      "image/png": "[encoded data removed]",
      "text/plain": [
       "<Figure size 700x500 with 1 Axes>"
      ]
     },
     "metadata": {},
     "output_type": "display_data"
    }
   ],
   "source": [
    "simulator = AerSimulator()\n",
    "job = simulator.run(ghz_new_qc)\n",
    "result = job.result()\n",
    "counts = result.get_counts()\n",
    "plot_histogram(counts)"
   ]
  },
  {
   "cell_type": "markdown",
   "id": "7e50da15",
   "metadata": {},
   "source": [
    "> EXPLAIN HERE HOW YOUR SOLUTION ADDRESSSES THE PROBLEM OF REDUCING THE DEPTH"
   ]
  },
  {
   "cell_type": "code",
   "execution_count": 17,
   "id": "22739920-0fa5-4eec-8508-141df80c62b4",
   "metadata": {
    "tags": []
   },
   "outputs": [
    {
     "data": {
      "text/html": [
       "<h3>Version Information</h3><table><tr><th>Software</th><th>Version</th></tr><tr><td><code>qiskit</code></td><td>0.44.1</td></tr><tr><td><code>qiskit-terra</code></td><td>0.25.1</td></tr><tr><td><code>qiskit_aer</code></td><td>0.12.1</td></tr><tr><th colspan='2'>System information</th></tr><tr><td>Python version</td><td>3.10.9</td></tr><tr><td>Python compiler</td><td>MSC v.1916 64 bit (AMD64)</td></tr><tr><td>Python build</td><td>main, Mar  1 2023 18:18:15</td></tr><tr><td>OS</td><td>Windows</td></tr><tr><td>CPUs</td><td>4</td></tr><tr><td>Memory (Gb)</td><td>7.748813629150391</td></tr><tr><td colspan='2'>Sun Oct 01 11:04:38 2023 Nepal Standard Time</td></tr></table>"
      ],
      "text/plain": [
       "<IPython.core.display.HTML object>"
      ]
     },
     "metadata": {},
     "output_type": "display_data"
    }
   ],
   "source": [
    "import qiskit.tools.jupyter\n",
    "%qiskit_version_table"
   ]
  }
 ],
 "metadata": {
  "kernelspec": {
   "display_name": "Python 3 (ipykernel)",
   "language": "python",
   "name": "python3"
  },
  "language_info": {
   "codemirror_mode": {
    "name": "ipython",
    "version": 3
   },
   "file_extension": ".py",
   "mimetype": "text/x-python",
   "name": "python",
   "nbconvert_exporter": "python",
   "pygments_lexer": "ipython3",
   "version": "3.10.9"
  },
  "widgets": {
   "application/vnd.jupyter.widget-state+json": {
    "state": {
     "088aa9ec5b404139bacabd9bb7f23e8f": {
      "model_module": "@jupyter-widgets/controls",
      "model_module_version": "2.0.0",
      "model_name": "HTMLStyleModel",
      "state": {
       "description_width": "",
       "font_size": null,
       "text_color": null
      }
     },
     "0a413481382541869f09895e6f8fc604": {
      "model_module": "@jupyter-widgets/base",
      "model_module_version": "2.0.0",
      "model_name": "LayoutModel",
      "state": {
       "width": "70px"
      }
     },
     "1405cbc1af9b49debb27f92bdef96b15": {
      "model_module": "@jupyter-widgets/base",
      "model_module_version": "2.0.0",
      "model_name": "LayoutModel",
      "state": {
       "width": "190px"
      }
     },
     "185ec5497aa64b1cb6b4708742c945e7": {
      "model_module": "@jupyter-widgets/controls",
      "model_module_version": "2.0.0",
      "model_name": "HTMLStyleModel",
      "state": {
       "description_width": "",
       "font_size": null,
       "text_color": null
      }
     },
     "1cf5f60dc1794b7690536655675cd703": {
      "model_module": "@jupyter-widgets/base",
      "model_module_version": "2.0.0",
      "model_name": "LayoutModel",
      "state": {
       "grid_area": "right",
       "padding": "0px 0px 0px 0px",
       "width": "70px"
      }
     },
     "2f298b488f8b460c87b9c8a7048e0b82": {
      "model_module": "@jupyter-widgets/controls",
      "model_module_version": "2.0.0",
      "model_name": "HTMLStyleModel",
      "state": {
       "description_width": "",
       "font_size": null,
       "text_color": null
      }
     },
     "2ff0bf6ba332442e8ac5be4b0652be9e": {
      "model_module": "@jupyter-widgets/controls",
      "model_module_version": "2.0.0",
      "model_name": "HTMLModel",
      "state": {
       "layout": "IPY_MODEL_0a413481382541869f09895e6f8fc604",
       "style": "IPY_MODEL_769ca6d1ce77459f9b6d5f6869c9f1f2",
       "value": "<h5>Queue</h5>"
      }
     },
     "31dd691cd6d8434fb026651dd8ac6649": {
      "model_module": "@jupyter-widgets/base",
      "model_module_version": "2.0.0",
      "model_name": "LayoutModel",
      "state": {
       "width": "145px"
      }
     },
     "33a420a0970241ec92ef5c3019e67926": {
      "model_module": "@jupyter-widgets/base",
      "model_module_version": "2.0.0",
      "model_name": "LayoutModel",
      "state": {
       "width": "95px"
      }
     },
     "40e83fbc9b4b432ab03feb40b2c17f87": {
      "model_module": "@jupyter-widgets/controls",
      "model_module_version": "2.0.0",
      "model_name": "HTMLModel",
      "state": {
       "layout": "IPY_MODEL_569833a832904b139ebaadaeb8c6b95f",
       "style": "IPY_MODEL_49877a126f7f4dcaaa11b958a86570bf",
       "value": "<p style='font-family: IBM Plex Sans, Arial, Helvetica, sans-serif; font-size: 20px; font-weight: medium;'>Circuit Properties</p>"
      }
     },
     "484319958ba24908b037d330068afd9f": {
      "model_module": "@jupyter-widgets/controls",
      "model_module_version": "2.0.0",
      "model_name": "GridBoxModel",
      "state": {
       "children": [
        "IPY_MODEL_e648bf2ff0614c828cccd61273208b80"
       ],
       "layout": "IPY_MODEL_8a95b643f4774ca59814160b1f676a72"
      }
     },
     "49877a126f7f4dcaaa11b958a86570bf": {
      "model_module": "@jupyter-widgets/controls",
      "model_module_version": "2.0.0",
      "model_name": "HTMLStyleModel",
      "state": {
       "description_width": "",
       "font_size": null,
       "text_color": null
      }
     },
     "569833a832904b139ebaadaeb8c6b95f": {
      "model_module": "@jupyter-widgets/base",
      "model_module_version": "2.0.0",
      "model_name": "LayoutModel",
      "state": {
       "margin": "0px 0px 10px 0px"
      }
     },
     "631acbabee0d4289b7b542351d381f9d": {
      "model_module": "@jupyter-widgets/controls",
      "model_module_version": "2.0.0",
      "model_name": "HTMLModel",
      "state": {
       "layout": "IPY_MODEL_b309990322b4422e8cc43ef5ef37d19c",
       "style": "IPY_MODEL_185ec5497aa64b1cb6b4708742c945e7",
       "value": "<h5>Message</h5>"
      }
     },
     "66f4a9444f3f4c58a0b4192610282fe0": {
      "model_module": "@jupyter-widgets/controls",
      "model_module_version": "2.0.0",
      "model_name": "HBoxModel",
      "state": {
       "children": [
        "IPY_MODEL_d361b162781f46328d15e9f6de1d3d34",
        "IPY_MODEL_ae49eeeccd7b46d3aaa5d9bac646e506",
        "IPY_MODEL_9a5a29b7487e484282b4fb8eafd4d4a1",
        "IPY_MODEL_2ff0bf6ba332442e8ac5be4b0652be9e",
        "IPY_MODEL_631acbabee0d4289b7b542351d381f9d"
       ],
       "layout": "IPY_MODEL_c9ef4e80f81043948982b7628a574458"
      }
     },
     "769ca6d1ce77459f9b6d5f6869c9f1f2": {
      "model_module": "@jupyter-widgets/controls",
      "model_module_version": "2.0.0",
      "model_name": "HTMLStyleModel",
      "state": {
       "description_width": "",
       "font_size": null,
       "text_color": null
      }
     },
     "8a95b643f4774ca59814160b1f676a72": {
      "model_module": "@jupyter-widgets/base",
      "model_module_version": "2.0.0",
      "model_name": "LayoutModel",
      "state": {
       "grid_template_areas": "\n                                       \". . . . right \"\n                                        ",
       "grid_template_columns": "20% 20% 20% 20% 20%",
       "width": "100%"
      }
     },
     "9a5a29b7487e484282b4fb8eafd4d4a1": {
      "model_module": "@jupyter-widgets/controls",
      "model_module_version": "2.0.0",
      "model_name": "HTMLModel",
      "state": {
       "layout": "IPY_MODEL_33a420a0970241ec92ef5c3019e67926",
       "style": "IPY_MODEL_9af117fedd65425692f83385407ec63d",
       "value": "<h5>Status</h5>"
      }
     },
     "9af117fedd65425692f83385407ec63d": {
      "model_module": "@jupyter-widgets/controls",
      "model_module_version": "2.0.0",
      "model_name": "HTMLStyleModel",
      "state": {
       "description_width": "",
       "font_size": null,
       "text_color": null
      }
     },
     "ae49eeeccd7b46d3aaa5d9bac646e506": {
      "model_module": "@jupyter-widgets/controls",
      "model_module_version": "2.0.0",
      "model_name": "HTMLModel",
      "state": {
       "layout": "IPY_MODEL_31dd691cd6d8434fb026651dd8ac6649",
       "style": "IPY_MODEL_088aa9ec5b404139bacabd9bb7f23e8f",
       "value": "<h5>Backend</h5>"
      }
     },
     "b309990322b4422e8cc43ef5ef37d19c": {
      "model_module": "@jupyter-widgets/base",
      "model_module_version": "2.0.0",
      "model_name": "LayoutModel",
      "state": {}
     },
     "b5e850a616ba4ff08cd72627bde3f19c": {
      "model_module": "@jupyter-widgets/controls",
      "model_module_version": "2.0.0",
      "model_name": "ButtonStyleModel",
      "state": {
       "font_family": null,
       "font_size": null,
       "font_style": null,
       "font_variant": null,
       "font_weight": null,
       "text_color": null,
       "text_decoration": null
      }
     },
     "c9ef4e80f81043948982b7628a574458": {
      "model_module": "@jupyter-widgets/base",
      "model_module_version": "2.0.0",
      "model_name": "LayoutModel",
      "state": {
       "margin": "0px 0px 0px 37px",
       "width": "600px"
      }
     },
     "d361b162781f46328d15e9f6de1d3d34": {
      "model_module": "@jupyter-widgets/controls",
      "model_module_version": "2.0.0",
      "model_name": "HTMLModel",
      "state": {
       "layout": "IPY_MODEL_1405cbc1af9b49debb27f92bdef96b15",
       "style": "IPY_MODEL_2f298b488f8b460c87b9c8a7048e0b82",
       "value": "<h5>Job ID</h5>"
      }
     },
     "e648bf2ff0614c828cccd61273208b80": {
      "model_module": "@jupyter-widgets/controls",
      "model_module_version": "2.0.0",
      "model_name": "ButtonModel",
      "state": {
       "button_style": "primary",
       "description": "Clear",
       "layout": "IPY_MODEL_1cf5f60dc1794b7690536655675cd703",
       "style": "IPY_MODEL_b5e850a616ba4ff08cd72627bde3f19c",
       "tooltip": null
      }
     }
    },
    "version_major": 2,
    "version_minor": 0
   }
  }
 },
 "nbformat": 4,
 "nbformat_minor": 5
}
